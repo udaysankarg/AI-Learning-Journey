{
  "nbformat": 4,
  "nbformat_minor": 0,
  "metadata": {
    "colab": {
      "provenance": [],
      "cell_execution_strategy": "setup",
      "generative_ai_disabled": true,
      "include_colab_link": true
    },
    "kernelspec": {
      "name": "python3",
      "display_name": "Python 3"
    },
    "language_info": {
      "name": "python"
    }
  },
  "cells": [
    {
      "cell_type": "markdown",
      "metadata": {
        "id": "view-in-github",
        "colab_type": "text"
      },
      "source": [
        "<a href=\"https://colab.research.google.com/github/udaysankarg/AI-Learning-Journey/blob/main/week1/Week1_AI_Intro.ipynb\" target=\"_parent\"><img src=\"https://colab.research.google.com/assets/colab-badge.svg\" alt=\"Open In Colab\"/></a>"
      ]
    },
    {
      "cell_type": "markdown",
      "source": [
        "# Week 1 - AI Landscape & Tools\n",
        "#### Author: Uday Sankar G\n",
        "#### Date: 2025-08-14\n",
        "\n",
        "\n",
        "```\n",
        "This notebook is part of my AI Learning Journey 🚀\n",
        "\n",
        "Goals for Week 1:\n",
        "1. Understand AI vs ML vs DL\n",
        "2. Learn about key AI tools (Hugging Face, LangChain, Ollama, Google Colab)\n",
        "3. Set up environment (Colab, Hugging Face, GitHub)\n",
        "4. Push this notebook to GitHub\n",
        "```\n"
      ],
      "metadata": {
        "id": "t9LlfUVO_s6C"
      }
    },
    {
      "cell_type": "markdown",
      "source": [
        "# 📚 AI vs ML vs DL\n",
        "\n",
        "- **Artificial Intelligence (AI)**: The broad concept of machines performing tasks that typically require human intelligence.\n",
        "- **Machine Learning (ML)**: A subset of AI focused on algorithms that learn from data.\n",
        "- **Deep Learning (DL)**: A subset of ML that uses neural networks with many layers to model complex patterns.\n",
        "\n",
        "**Example: Bird Species App**\n",
        "- AI: \"I want my app to identify bird species.\"\n",
        "- ML: Train it using labeled bird images.\n",
        "- DL: Use a convolutional neural network (CNN) for image classification.\n"
      ],
      "metadata": {
        "id": "LgYH3VRs_XLe"
      }
    },
    {
      "cell_type": "markdown",
      "source": [
        "## 🔧 AI Tools Overview\n",
        "\n",
        "1. **Hugging Face** – Repository of pre-trained models (NLP, vision, audio).\n",
        "2. **OpenAI API** – Cloud-based LLMs (like GPT-4).\n",
        "3. **LangChain** – Framework for chaining AI tools and workflows.\n",
        "4. **Ollama** – Run small LLMs locally.\n",
        "5. **Google Colab** – Cloud-based Python notebooks with free GPUs.\n"
      ],
      "metadata": {
        "id": "dYNB45bW_oYJ"
      }
    },
    {
      "cell_type": "code",
      "source": [
        "# Install Hugging Face transformers\n",
        "!pip install -q transformers\n",
        "\n",
        "from huggingface_hub import notebook_login\n",
        "\n",
        "# This will open a login link in Colab for you to paste your token\n",
        "notebook_login()\n"
      ],
      "metadata": {
        "colab": {
          "base_uri": "https://localhost:8080/",
          "height": 331,
          "referenced_widgets": [
            "0007ecfdf14d4cbea7c4e40fcd779a28",
            "fa82b4b1b58a4799966620ac9ef38b71",
            "abaace298e4b4f4985dee4e7f4cdb7f0",
            "23cdf815d73f45cfa6d392429cdee323",
            "cc276f6412d648f0bf55ee8300d2a947",
            "8c3cec8773d0497799d73540d647b45d",
            "09f765cf833944149f788407c1ab9d7c",
            "b4abb3bf29724092b4ae603bedd02b42",
            "6f0cc92b329344d09fdf1d1e1b71d536",
            "68ee449600ba45a889cc47bbc23f924e",
            "a2b2e71e3f2742958b29e7af4c32d5c1",
            "a345f8a2fbbf43b180a8200590909d6f",
            "94f4675456a842dd9daf22d1ebb817b8",
            "b4d2a8937cc64f4f9a764d8f845e0062",
            "ebba8c04ddfb463e85bac2228df97d8d",
            "efcf5ca8aed24440b4f28ece485670d6",
            "e83a3ea2103b47d1aea56ace7cdcff78"
          ]
        },
        "id": "MU-lrxTvAC2u",
        "outputId": "44d46eb3-a3fe-4fa6-802f-95719e81af68"
      },
      "execution_count": 1,
      "outputs": [
        {
          "output_type": "display_data",
          "data": {
            "text/plain": [
              "VBox(children=(HTML(value='<center> <img\\nsrc=https://huggingface.co/front/assets/huggingface_logo-noborder.sv…"
            ],
            "application/vnd.jupyter.widget-view+json": {
              "version_major": 2,
              "version_minor": 0,
              "model_id": "0007ecfdf14d4cbea7c4e40fcd779a28"
            }
          },
          "metadata": {}
        }
      ]
    },
    {
      "cell_type": "code",
      "source": [
        "import torch\n",
        "\n",
        "if torch.cuda.is_available():\n",
        "    print(\"✅ GPU available:\", torch.cuda.get_device_name(0))\n",
        "else:\n",
        "    print(\"⚠️ No GPU available - using CPU\")\n"
      ],
      "metadata": {
        "colab": {
          "base_uri": "https://localhost:8080/"
        },
        "id": "SOd3i0sOAo39",
        "outputId": "4faa3d87-c93a-4926-d9f3-c0dda564903b"
      },
      "execution_count": 2,
      "outputs": [
        {
          "output_type": "stream",
          "name": "stdout",
          "text": [
            "⚠️ No GPU available - using CPU\n"
          ]
        }
      ]
    },
    {
      "cell_type": "markdown",
      "source": [
        "**Checkpoint Question**\n",
        "If you want to build a system that:\n",
        "- Reads invoices\n",
        "- Extracts the total amount\n",
        "- Categorizes expense types\n",
        "\n",
        "Which approach would you start with: AI, ML, or DL? Why?\n"
      ],
      "metadata": {
        "id": "pNk95IC8Ay1L"
      }
    },
    {
      "cell_type": "code",
      "source": [
        "!pip install nbstripout\n",
        "!nbstripout --install\n"
      ],
      "metadata": {
        "colab": {
          "base_uri": "https://localhost:8080/"
        },
        "id": "fZ07E7fSA_SU",
        "outputId": "ba43c02c-1a93-436a-ab55-fae96e7a7ec4"
      },
      "execution_count": 3,
      "outputs": [
        {
          "output_type": "stream",
          "name": "stdout",
          "text": [
            "Collecting nbstripout\n",
            "  Downloading nbstripout-0.8.1-py2.py3-none-any.whl.metadata (19 kB)\n",
            "Requirement already satisfied: nbformat in /usr/local/lib/python3.11/dist-packages (from nbstripout) (5.10.4)\n",
            "Requirement already satisfied: fastjsonschema>=2.15 in /usr/local/lib/python3.11/dist-packages (from nbformat->nbstripout) (2.21.1)\n",
            "Requirement already satisfied: jsonschema>=2.6 in /usr/local/lib/python3.11/dist-packages (from nbformat->nbstripout) (4.25.0)\n",
            "Requirement already satisfied: jupyter-core!=5.0.*,>=4.12 in /usr/local/lib/python3.11/dist-packages (from nbformat->nbstripout) (5.8.1)\n",
            "Requirement already satisfied: traitlets>=5.1 in /usr/local/lib/python3.11/dist-packages (from nbformat->nbstripout) (5.7.1)\n",
            "Requirement already satisfied: attrs>=22.2.0 in /usr/local/lib/python3.11/dist-packages (from jsonschema>=2.6->nbformat->nbstripout) (25.3.0)\n",
            "Requirement already satisfied: jsonschema-specifications>=2023.03.6 in /usr/local/lib/python3.11/dist-packages (from jsonschema>=2.6->nbformat->nbstripout) (2025.4.1)\n",
            "Requirement already satisfied: referencing>=0.28.4 in /usr/local/lib/python3.11/dist-packages (from jsonschema>=2.6->nbformat->nbstripout) (0.36.2)\n",
            "Requirement already satisfied: rpds-py>=0.7.1 in /usr/local/lib/python3.11/dist-packages (from jsonschema>=2.6->nbformat->nbstripout) (0.27.0)\n",
            "Requirement already satisfied: platformdirs>=2.5 in /usr/local/lib/python3.11/dist-packages (from jupyter-core!=5.0.*,>=4.12->nbformat->nbstripout) (4.3.8)\n",
            "Requirement already satisfied: typing-extensions>=4.4.0 in /usr/local/lib/python3.11/dist-packages (from referencing>=0.28.4->jsonschema>=2.6->nbformat->nbstripout) (4.14.1)\n",
            "Downloading nbstripout-0.8.1-py2.py3-none-any.whl (16 kB)\n",
            "Installing collected packages: nbstripout\n",
            "Successfully installed nbstripout-0.8.1\n",
            "fatal: --local can only be used inside a git repository\n",
            "Installation failed: not a git repository!\n"
          ]
        }
      ]
    }
  ]
}
