{
  "nbformat": 4,
  "nbformat_minor": 0,
  "metadata": {
    "colab": {
      "provenance": [],
      "cell_execution_strategy": "setup",
      "generative_ai_disabled": true,
      "include_colab_link": true
    },
    "kernelspec": {
      "name": "python3",
      "display_name": "Python 3"
    },
    "language_info": {
      "name": "python"
    }
  },
  "cells": [
    {
      "cell_type": "markdown",
      "metadata": {
        "id": "view-in-github",
        "colab_type": "text"
      },
      "source": [
        "<a href=\"https://colab.research.google.com/github/udaysankarg/AI-Learning-Journey/blob/main/week/Week1_AI_Intro.ipynb\" target=\"_parent\"><img src=\"https://colab.research.google.com/assets/colab-badge.svg\" alt=\"Open In Colab\"/></a>"
      ]
    },
    {
      "cell_type": "markdown",
      "source": [
        "# Week 1 - AI Landscape & Tools\n",
        "# Author: Uday Sankar G\n",
        "# Date: 2025-08-14\n",
        "\n",
        "\"\"\"\n",
        "This notebook is part of my AI Learning Journey 🚀\n",
        "\n",
        "Goals for Week 1:\n",
        "1. Understand AI vs ML vs DL\n",
        "2. Learn about key AI tools (Hugging Face, LangChain, Ollama, Google Colab)\n",
        "3. Set up environment (Colab, Hugging Face, GitHub)\n",
        "4. Push this notebook to GitHub\n",
        "\"\"\""
      ],
      "metadata": {
        "id": "t9LlfUVO_s6C"
      }
    },
    {
      "cell_type": "markdown",
      "source": [
        "# 📚 AI vs ML vs DL\n",
        "\n",
        "- **Artificial Intelligence (AI)**: The broad concept of machines performing tasks that typically require human intelligence.\n",
        "- **Machine Learning (ML)**: A subset of AI focused on algorithms that learn from data.\n",
        "- **Deep Learning (DL)**: A subset of ML that uses neural networks with many layers to model complex patterns.\n",
        "\n",
        "**Example: Bird Species App**\n",
        "- AI: \"I want my app to identify bird species.\"\n",
        "- ML: Train it using labeled bird images.\n",
        "- DL: Use a convolutional neural network (CNN) for image classification.\n"
      ],
      "metadata": {
        "id": "LgYH3VRs_XLe"
      }
    },
    {
      "cell_type": "markdown",
      "source": [
        "## 🔧 AI Tools Overview\n",
        "\n",
        "1. **Hugging Face** – Repository of pre-trained models (NLP, vision, audio).\n",
        "2. **OpenAI API** – Cloud-based LLMs (like GPT-4).\n",
        "3. **LangChain** – Framework for chaining AI tools and workflows.\n",
        "4. **Ollama** – Run small LLMs locally.\n",
        "5. **Google Colab** – Cloud-based Python notebooks with free GPUs.\n"
      ],
      "metadata": {
        "id": "dYNB45bW_oYJ"
      }
    },
    {
      "cell_type": "code",
      "source": [
        "# Install Hugging Face transformers\n",
        "!pip install -q transformers\n",
        "\n",
        "from huggingface_hub import notebook_login\n",
        "\n",
        "# This will open a login link in Colab for you to paste your token\n",
        "notebook_login()\n"
      ],
      "metadata": {
        "colab": {
          "base_uri": "https://localhost:8080/",
          "height": 17,
          "referenced_widgets": [
            "4ced6cbba21e4e83b6b6fc79dd6d2a48",
            "e714868c982f4f519c7337023743755b",
            "d750013b7ee04006bd232874adc5c4e5",
            "439b4d5819e1463f8d5827f6ba014c34",
            "4eb0bf0db2854ea4933a67e71aa13690",
            "db38227fad574a35b5b73b138467dd9a",
            "60e46e8147f542a1b0d5935809fded36",
            "93c1c914d11f4eceb1f4fcc79ddfc5c4",
            "e5f82ca55ee44fd09376277a4299b2a9",
            "7da9919bcb0b40ddac6a029fba10b54c",
            "a103644572bd45b6b23a65354a9003d8",
            "9fad3f8a1375449a9466cb71bd2c3c20",
            "f63eb9b0c785421eb747e03187273880",
            "30d36739ee4947bd8265242f39a1c964",
            "f38a703c1d154109a535fe60614b8f7d",
            "eda4f99fed964152baa3306cdb95a16e",
            "48ee2dfeca3b48f8b97a1d8aecfadf7a",
            "c968adcf2e024d5d91db05703c7e8de7",
            "de98f340bdd142df89b022f515e9e465",
            "18d26a05ea524b17bbe2992812874ece"
          ]
        },
        "id": "MU-lrxTvAC2u",
        "outputId": "089b51a1-1fb7-4267-f771-ab0f8c605946"
      },
      "execution_count": null,
      "outputs": [
        {
          "output_type": "display_data",
          "data": {
            "text/plain": [
              "VBox(children=(HTML(value='<center> <img\\nsrc=https://huggingface.co/front/assets/huggingface_logo-noborder.sv…"
            ],
            "application/vnd.jupyter.widget-view+json": {
              "version_major": 2,
              "version_minor": 0,
              "model_id": "4ced6cbba21e4e83b6b6fc79dd6d2a48"
            }
          },
          "metadata": {}
        }
      ]
    },
    {
      "cell_type": "code",
      "source": [
        "import torch\n",
        "\n",
        "if torch.cuda.is_available():\n",
        "    print(\"✅ GPU available:\", torch.cuda.get_device_name(0))\n",
        "else:\n",
        "    print(\"⚠️ No GPU available - using CPU\")\n"
      ],
      "metadata": {
        "colab": {
          "base_uri": "https://localhost:8080/"
        },
        "id": "SOd3i0sOAo39",
        "outputId": "720d39a7-e36b-496e-a662-02541a3a0e00"
      },
      "execution_count": null,
      "outputs": [
        {
          "output_type": "stream",
          "name": "stdout",
          "text": [
            "⚠️ No GPU available - using CPU\n"
          ]
        }
      ]
    },
    {
      "cell_type": "markdown",
      "source": [
        "**Checkpoint Question**\n",
        "If you want to build a system that:\n",
        "- Reads invoices\n",
        "- Extracts the total amount\n",
        "- Categorizes expense types\n",
        "\n",
        "Which approach would you start with: AI, ML, or DL? Why?\n"
      ],
      "metadata": {
        "id": "pNk95IC8Ay1L"
      }
    },
    {
      "cell_type": "code",
      "source": [
        "!pip install nbstripout\n",
        "!nbstripout --install\n"
      ],
      "metadata": {
        "colab": {
          "base_uri": "https://localhost:8080/"
        },
        "id": "fZ07E7fSA_SU",
        "outputId": "3a1ad3a3-ebe5-40cf-80c1-ea59c3d54a15"
      },
      "execution_count": null,
      "outputs": [
        {
          "output_type": "stream",
          "name": "stdout",
          "text": [
            "Requirement already satisfied: nbstripout in /usr/local/lib/python3.11/dist-packages (0.8.1)\n",
            "Requirement already satisfied: nbformat in /usr/local/lib/python3.11/dist-packages (from nbstripout) (5.10.4)\n",
            "Requirement already satisfied: fastjsonschema>=2.15 in /usr/local/lib/python3.11/dist-packages (from nbformat->nbstripout) (2.21.1)\n",
            "Requirement already satisfied: jsonschema>=2.6 in /usr/local/lib/python3.11/dist-packages (from nbformat->nbstripout) (4.25.0)\n",
            "Requirement already satisfied: jupyter-core!=5.0.*,>=4.12 in /usr/local/lib/python3.11/dist-packages (from nbformat->nbstripout) (5.8.1)\n",
            "Requirement already satisfied: traitlets>=5.1 in /usr/local/lib/python3.11/dist-packages (from nbformat->nbstripout) (5.7.1)\n",
            "Requirement already satisfied: attrs>=22.2.0 in /usr/local/lib/python3.11/dist-packages (from jsonschema>=2.6->nbformat->nbstripout) (25.3.0)\n",
            "Requirement already satisfied: jsonschema-specifications>=2023.03.6 in /usr/local/lib/python3.11/dist-packages (from jsonschema>=2.6->nbformat->nbstripout) (2025.4.1)\n",
            "Requirement already satisfied: referencing>=0.28.4 in /usr/local/lib/python3.11/dist-packages (from jsonschema>=2.6->nbformat->nbstripout) (0.36.2)\n",
            "Requirement already satisfied: rpds-py>=0.7.1 in /usr/local/lib/python3.11/dist-packages (from jsonschema>=2.6->nbformat->nbstripout) (0.27.0)\n",
            "Requirement already satisfied: platformdirs>=2.5 in /usr/local/lib/python3.11/dist-packages (from jupyter-core!=5.0.*,>=4.12->nbformat->nbstripout) (4.3.8)\n",
            "Requirement already satisfied: typing-extensions>=4.4.0 in /usr/local/lib/python3.11/dist-packages (from referencing>=0.28.4->jsonschema>=2.6->nbformat->nbstripout) (4.14.1)\n",
            "fatal: --local can only be used inside a git repository\n",
            "Installation failed: not a git repository!\n"
          ]
        }
      ]
    }
  ]
}