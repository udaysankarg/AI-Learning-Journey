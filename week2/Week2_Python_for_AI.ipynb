{
  "cells": [
    {
      "cell_type": "markdown",
      "metadata": {
        "id": "view-in-github",
        "colab_type": "text"
      },
      "source": [
        "<a href=\"https://colab.research.google.com/github/udaysankarg/AI-Learning-Journey/blob/main/week2/Week2_Python_for_AI.ipynb\" target=\"_parent\"><img src=\"https://colab.research.google.com/assets/colab-badge.svg\" alt=\"Open In Colab\"/></a>"
      ]
    },
    {
      "cell_type": "markdown",
      "id": "ea949ef0",
      "metadata": {
        "id": "ea949ef0"
      },
      "source": [
        "\n",
        "# Week 2 - Python for AI\n",
        "**Author:** Uday Sankar G  \n",
        "**Date:** 2025-08-09\n",
        "\n",
        "**Goals for Week 2:**\n",
        "1. Learn Numpy, Pandas, Matplotlib basics\n",
        "2. Load and explore datasets\n",
        "3. Perform basic data cleaning and transformations\n",
        "4. Visualize data\n"
      ]
    },
    {
      "cell_type": "code",
      "execution_count": 1,
      "id": "177ee6c4",
      "metadata": {
        "id": "177ee6c4"
      },
      "outputs": [],
      "source": [
        "\n",
        "!pip install -q seaborn\n"
      ]
    },
    {
      "cell_type": "markdown",
      "id": "4d4f8097",
      "metadata": {
        "id": "4d4f8097"
      },
      "source": [
        "## Section 1 - Numpy Basics"
      ]
    },
    {
      "cell_type": "code",
      "execution_count": 2,
      "id": "daf16934",
      "metadata": {
        "colab": {
          "base_uri": "https://localhost:8080/"
        },
        "id": "daf16934",
        "outputId": "28568ab0-5fb0-43b5-d26b-303a290c452b"
      },
      "outputs": [
        {
          "output_type": "stream",
          "name": "stdout",
          "text": [
            "Array a: [1 2 3 4]\n",
            "Array b: [0 2 4 6 8]\n",
            "a + 5: [6 7 8 9]\n",
            "a * 2: [2 4 6 8]\n",
            "Dot product a·b[:4]: 40\n"
          ]
        }
      ],
      "source": [
        "\n",
        "import numpy as np\n",
        "\n",
        "# Create arrays\n",
        "a = np.array([1, 2, 3, 4])\n",
        "b = np.arange(0, 10, 2)  # 0 to 8 with step 2\n",
        "\n",
        "print(\"Array a:\", a)\n",
        "print(\"Array b:\", b)\n",
        "\n",
        "# Array operations\n",
        "print(\"a + 5:\", a + 5)\n",
        "print(\"a * 2:\", a * 2)\n",
        "print(\"Dot product a·b[:4]:\", np.dot(a, b[:4]))\n"
      ]
    },
    {
      "cell_type": "markdown",
      "id": "5854a894",
      "metadata": {
        "id": "5854a894"
      },
      "source": [
        "## Section 2 - Pandas Basics"
      ]
    },
    {
      "cell_type": "code",
      "execution_count": 4,
      "id": "04e461d6",
      "metadata": {
        "colab": {
          "base_uri": "https://localhost:8080/",
          "height": 1000
        },
        "id": "04e461d6",
        "outputId": "e01a63bb-c545-4cff-bdd5-de3e14af0481"
      },
      "outputs": [
        {
          "output_type": "stream",
          "name": "stdout",
          "text": [
            "   PassengerId  Survived  Pclass  \\\n",
            "0            1         0       3   \n",
            "1            2         1       1   \n",
            "2            3         1       3   \n",
            "3            4         1       1   \n",
            "4            5         0       3   \n",
            "\n",
            "                                                Name     Sex   Age  SibSp  \\\n",
            "0                            Braund, Mr. Owen Harris    male  22.0      1   \n",
            "1  Cumings, Mrs. John Bradley (Florence Briggs Th...  female  38.0      1   \n",
            "2                             Heikkinen, Miss. Laina  female  26.0      0   \n",
            "3       Futrelle, Mrs. Jacques Heath (Lily May Peel)  female  35.0      1   \n",
            "4                           Allen, Mr. William Henry    male  35.0      0   \n",
            "\n",
            "   Parch            Ticket     Fare Cabin Embarked  \n",
            "0      0         A/5 21171   7.2500   NaN        S  \n",
            "1      0          PC 17599  71.2833   C85        C  \n",
            "2      0  STON/O2. 3101282   7.9250   NaN        S  \n",
            "3      0            113803  53.1000  C123        S  \n",
            "4      0            373450   8.0500   NaN        S  \n",
            "<class 'pandas.core.frame.DataFrame'>\n",
            "RangeIndex: 891 entries, 0 to 890\n",
            "Data columns (total 12 columns):\n",
            " #   Column       Non-Null Count  Dtype  \n",
            "---  ------       --------------  -----  \n",
            " 0   PassengerId  891 non-null    int64  \n",
            " 1   Survived     891 non-null    int64  \n",
            " 2   Pclass       891 non-null    int64  \n",
            " 3   Name         891 non-null    object \n",
            " 4   Sex          891 non-null    object \n",
            " 5   Age          714 non-null    float64\n",
            " 6   SibSp        891 non-null    int64  \n",
            " 7   Parch        891 non-null    int64  \n",
            " 8   Ticket       891 non-null    object \n",
            " 9   Fare         891 non-null    float64\n",
            " 10  Cabin        204 non-null    object \n",
            " 11  Embarked     889 non-null    object \n",
            "dtypes: float64(2), int64(5), object(5)\n",
            "memory usage: 83.7+ KB\n",
            "None\n",
            "       PassengerId    Survived      Pclass         Age       SibSp  \\\n",
            "count   891.000000  891.000000  891.000000  714.000000  891.000000   \n",
            "mean    446.000000    0.383838    2.308642   29.699118    0.523008   \n",
            "std     257.353842    0.486592    0.836071   14.526497    1.102743   \n",
            "min       1.000000    0.000000    1.000000    0.420000    0.000000   \n",
            "25%     223.500000    0.000000    2.000000   20.125000    0.000000   \n",
            "50%     446.000000    0.000000    3.000000   28.000000    0.000000   \n",
            "75%     668.500000    1.000000    3.000000   38.000000    1.000000   \n",
            "max     891.000000    1.000000    3.000000   80.000000    8.000000   \n",
            "\n",
            "            Parch        Fare  \n",
            "count  891.000000  891.000000  \n",
            "mean     0.381594   32.204208  \n",
            "std      0.806057   49.693429  \n",
            "min      0.000000    0.000000  \n",
            "25%      0.000000    7.910400  \n",
            "50%      0.000000   14.454200  \n",
            "75%      0.000000   31.000000  \n",
            "max      6.000000  512.329200  \n",
            "0                              Braund, Mr. Owen Harris\n",
            "1    Cumings, Mrs. John Bradley (Florence Briggs Th...\n",
            "2                               Heikkinen, Miss. Laina\n",
            "3         Futrelle, Mrs. Jacques Heath (Lily May Peel)\n",
            "4                             Allen, Mr. William Henry\n",
            "Name: Name, dtype: object\n"
          ]
        },
        {
          "output_type": "execute_result",
          "data": {
            "text/plain": [
              "0      22.000000\n",
              "1      38.000000\n",
              "2      26.000000\n",
              "3      35.000000\n",
              "4      35.000000\n",
              "         ...    \n",
              "886    27.000000\n",
              "887    19.000000\n",
              "888    29.699118\n",
              "889    26.000000\n",
              "890    32.000000\n",
              "Name: Age, Length: 891, dtype: float64"
            ],
            "text/html": [
              "<div>\n",
              "<style scoped>\n",
              "    .dataframe tbody tr th:only-of-type {\n",
              "        vertical-align: middle;\n",
              "    }\n",
              "\n",
              "    .dataframe tbody tr th {\n",
              "        vertical-align: top;\n",
              "    }\n",
              "\n",
              "    .dataframe thead th {\n",
              "        text-align: right;\n",
              "    }\n",
              "</style>\n",
              "<table border=\"1\" class=\"dataframe\">\n",
              "  <thead>\n",
              "    <tr style=\"text-align: right;\">\n",
              "      <th></th>\n",
              "      <th>Age</th>\n",
              "    </tr>\n",
              "  </thead>\n",
              "  <tbody>\n",
              "    <tr>\n",
              "      <th>0</th>\n",
              "      <td>22.000000</td>\n",
              "    </tr>\n",
              "    <tr>\n",
              "      <th>1</th>\n",
              "      <td>38.000000</td>\n",
              "    </tr>\n",
              "    <tr>\n",
              "      <th>2</th>\n",
              "      <td>26.000000</td>\n",
              "    </tr>\n",
              "    <tr>\n",
              "      <th>3</th>\n",
              "      <td>35.000000</td>\n",
              "    </tr>\n",
              "    <tr>\n",
              "      <th>4</th>\n",
              "      <td>35.000000</td>\n",
              "    </tr>\n",
              "    <tr>\n",
              "      <th>...</th>\n",
              "      <td>...</td>\n",
              "    </tr>\n",
              "    <tr>\n",
              "      <th>886</th>\n",
              "      <td>27.000000</td>\n",
              "    </tr>\n",
              "    <tr>\n",
              "      <th>887</th>\n",
              "      <td>19.000000</td>\n",
              "    </tr>\n",
              "    <tr>\n",
              "      <th>888</th>\n",
              "      <td>29.699118</td>\n",
              "    </tr>\n",
              "    <tr>\n",
              "      <th>889</th>\n",
              "      <td>26.000000</td>\n",
              "    </tr>\n",
              "    <tr>\n",
              "      <th>890</th>\n",
              "      <td>32.000000</td>\n",
              "    </tr>\n",
              "  </tbody>\n",
              "</table>\n",
              "<p>891 rows × 1 columns</p>\n",
              "</div><br><label><b>dtype:</b> float64</label>"
            ]
          },
          "metadata": {},
          "execution_count": 4
        }
      ],
      "source": [
        "\n",
        "import pandas as pd\n",
        "\n",
        "# Load dataset (CSV example: Titanic)\n",
        "url = \"https://raw.githubusercontent.com/datasciencedojo/datasets/master/titanic.csv\"\n",
        "df = pd.read_csv(url)\n",
        "\n",
        "# Explore data\n",
        "print(df.head())\n",
        "print(df.info())\n",
        "print(df.describe())\n",
        "\n",
        "# Access columns\n",
        "print(df['Name'].head())\n",
        "\n",
        "# Handle missing values\n",
        "df['Age'].fillna(df['Age'].mean())\n"
      ]
    },
    {
      "cell_type": "markdown",
      "id": "8619fdb0",
      "metadata": {
        "id": "8619fdb0"
      },
      "source": [
        "## Section 3 - Data Visualization"
      ]
    },
    {
      "cell_type": "code",
      "execution_count": null,
      "id": "d7936b40",
      "metadata": {
        "id": "d7936b40"
      },
      "outputs": [],
      "source": [
        "\n",
        "import matplotlib.pyplot as plt\n",
        "import seaborn as sns\n",
        "\n",
        "# Histogram of Age\n",
        "plt.hist(df['Age'], bins=20)\n",
        "plt.title(\"Age Distribution\")\n",
        "plt.xlabel(\"Age\")\n",
        "plt.ylabel(\"Count\")\n",
        "plt.show()\n",
        "\n",
        "# Count plot of Survived\n",
        "sns.countplot(x='Survived', data=df)\n",
        "plt.title(\"Survival Count\")\n",
        "plt.show()\n"
      ]
    },
    {
      "cell_type": "markdown",
      "id": "2ecee1a7",
      "metadata": {
        "id": "2ecee1a7"
      },
      "source": [
        "\n",
        "## Section 4 - Practice Exercise\n",
        "1. Find the **average fare** paid per class (`Pclass`)  \n",
        "2. Plot a **bar chart of average fare by class**  \n",
        "3. Find **correlation** between `Age` and `Fare`  \n"
      ]
    },
    {
      "cell_type": "markdown",
      "id": "97c6a5b4",
      "metadata": {
        "id": "97c6a5b4"
      },
      "source": [
        "\n",
        "## Section 5 - Quiz / Checkpoint\n",
        "1. What is the difference between a **Pandas Series** and a **DataFrame**?  \n",
        "2. How do you handle missing values in a dataset before feeding it into a model?  \n",
        "3. Which library is better for **matrix operations**, Numpy or Pandas? Why?  \n"
      ]
    }
  ],
  "metadata": {
    "colab": {
      "provenance": [],
      "include_colab_link": true
    },
    "language_info": {
      "name": "python"
    },
    "kernelspec": {
      "name": "python3",
      "display_name": "Python 3"
    }
  },
  "nbformat": 4,
  "nbformat_minor": 5
}